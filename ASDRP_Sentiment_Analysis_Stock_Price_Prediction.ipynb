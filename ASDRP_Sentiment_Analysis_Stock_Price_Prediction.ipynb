{
  "nbformat": 4,
  "nbformat_minor": 0,
  "metadata": {
    "colab": {
      "name": "ASDRP Sentiment Analysis - Stock Price Prediction",
      "provenance": [],
      "collapsed_sections": []
    },
    "kernelspec": {
      "name": "python3",
      "display_name": "Python 3"
    },
    "language_info": {
      "name": "python"
    }
  },
  "cells": [
    {
      "cell_type": "code",
      "metadata": {
        "colab": {
          "base_uri": "https://localhost:8080/"
        },
        "id": "nJ6kpvxIEf-o",
        "outputId": "b7c8ad92-29fe-4118-f221-df6380f9fa12"
      },
      "source": [
        "from google.colab import drive\n",
        "drive.mount('/content/drive')"
      ],
      "execution_count": null,
      "outputs": [
        {
          "output_type": "stream",
          "text": [
            "Drive already mounted at /content/drive; to attempt to forcibly remount, call drive.mount(\"/content/drive\", force_remount=True).\n"
          ],
          "name": "stdout"
        }
      ]
    },
    {
      "cell_type": "code",
      "metadata": {
        "colab": {
          "base_uri": "https://localhost:8080/"
        },
        "id": "sLKbYbTTvO2o",
        "outputId": "06582ee2-cb24-491d-c70d-4f323a525751"
      },
      "source": [
        "%ls"
      ],
      "execution_count": null,
      "outputs": [
        {
          "output_type": "stream",
          "text": [
            "\u001b[0m\u001b[01;34mdrive\u001b[0m/  \u001b[01;34msample_data\u001b[0m/\n"
          ],
          "name": "stdout"
        }
      ]
    },
    {
      "cell_type": "code",
      "metadata": {
        "id": "8Nw8y29HCsxK"
      },
      "source": [
        "import io\n",
        "import re\n",
        "import collections\n",
        "\n",
        "import numpy as np\n",
        "import pandas as pd\n",
        "import matplotlib.pyplot as plt\n",
        "import seaborn as sns\n",
        "\n",
        "from datetime import datetime\n",
        "import progressbar\n",
        "import math"
      ],
      "execution_count": null,
      "outputs": []
    },
    {
      "cell_type": "code",
      "metadata": {
        "colab": {
          "base_uri": "https://localhost:8080/",
          "height": 203
        },
        "id": "UHJl1grFAs92",
        "outputId": "604f9b0d-5ab7-476d-cbd4-edc9c6530ab7"
      },
      "source": [
        "# Read csv containing stocks and prices each day\n",
        "path = \"./drive/MyDrive/stock_prices.csv\"\n",
        "df_stock_prices = pd.read_csv(path)\n",
        "df_stock_prices.columns= df_stock_prices.columns.str.lower()\n",
        "df_stock_prices.rename(columns={'adj close': 'adj_close'}, inplace=True)\n",
        "df_stock_prices['date'] = pd.to_datetime(df_stock_prices['date']).dt.date\n",
        "df_stock_prices.head()"
      ],
      "execution_count": null,
      "outputs": [
        {
          "output_type": "execute_result",
          "data": {
            "text/html": [
              "<div>\n",
              "<style scoped>\n",
              "    .dataframe tbody tr th:only-of-type {\n",
              "        vertical-align: middle;\n",
              "    }\n",
              "\n",
              "    .dataframe tbody tr th {\n",
              "        vertical-align: top;\n",
              "    }\n",
              "\n",
              "    .dataframe thead th {\n",
              "        text-align: right;\n",
              "    }\n",
              "</style>\n",
              "<table border=\"1\" class=\"dataframe\">\n",
              "  <thead>\n",
              "    <tr style=\"text-align: right;\">\n",
              "      <th></th>\n",
              "      <th>unnamed: 0</th>\n",
              "      <th>ticker</th>\n",
              "      <th>date</th>\n",
              "      <th>high</th>\n",
              "      <th>low</th>\n",
              "      <th>open</th>\n",
              "      <th>close</th>\n",
              "      <th>volume</th>\n",
              "      <th>adj_close</th>\n",
              "    </tr>\n",
              "  </thead>\n",
              "  <tbody>\n",
              "    <tr>\n",
              "      <th>0</th>\n",
              "      <td>0</td>\n",
              "      <td>A</td>\n",
              "      <td>2010-01-04</td>\n",
              "      <td>22.625179</td>\n",
              "      <td>22.267525</td>\n",
              "      <td>22.453505</td>\n",
              "      <td>22.389128</td>\n",
              "      <td>3815561</td>\n",
              "      <td>20.487324</td>\n",
              "    </tr>\n",
              "    <tr>\n",
              "      <th>1</th>\n",
              "      <td>1</td>\n",
              "      <td>A</td>\n",
              "      <td>2010-01-05</td>\n",
              "      <td>22.331903</td>\n",
              "      <td>22.002861</td>\n",
              "      <td>22.324751</td>\n",
              "      <td>22.145924</td>\n",
              "      <td>4186031</td>\n",
              "      <td>20.264782</td>\n",
              "    </tr>\n",
              "    <tr>\n",
              "      <th>2</th>\n",
              "      <td>2</td>\n",
              "      <td>A</td>\n",
              "      <td>2010-01-06</td>\n",
              "      <td>22.174536</td>\n",
              "      <td>22.002861</td>\n",
              "      <td>22.067240</td>\n",
              "      <td>22.067240</td>\n",
              "      <td>3243779</td>\n",
              "      <td>20.192783</td>\n",
              "    </tr>\n",
              "    <tr>\n",
              "      <th>3</th>\n",
              "      <td>3</td>\n",
              "      <td>A</td>\n",
              "      <td>2010-01-07</td>\n",
              "      <td>22.045780</td>\n",
              "      <td>21.816881</td>\n",
              "      <td>22.017166</td>\n",
              "      <td>22.038628</td>\n",
              "      <td>3095172</td>\n",
              "      <td>20.166595</td>\n",
              "    </tr>\n",
              "    <tr>\n",
              "      <th>4</th>\n",
              "      <td>4</td>\n",
              "      <td>A</td>\n",
              "      <td>2010-01-08</td>\n",
              "      <td>22.067240</td>\n",
              "      <td>21.745352</td>\n",
              "      <td>21.917025</td>\n",
              "      <td>22.031473</td>\n",
              "      <td>3733918</td>\n",
              "      <td>20.160051</td>\n",
              "    </tr>\n",
              "  </tbody>\n",
              "</table>\n",
              "</div>"
            ],
            "text/plain": [
              "   unnamed: 0 ticker        date  ...      close   volume  adj_close\n",
              "0           0      A  2010-01-04  ...  22.389128  3815561  20.487324\n",
              "1           1      A  2010-01-05  ...  22.145924  4186031  20.264782\n",
              "2           2      A  2010-01-06  ...  22.067240  3243779  20.192783\n",
              "3           3      A  2010-01-07  ...  22.038628  3095172  20.166595\n",
              "4           4      A  2010-01-08  ...  22.031473  3733918  20.160051\n",
              "\n",
              "[5 rows x 9 columns]"
            ]
          },
          "metadata": {
            "tags": []
          },
          "execution_count": 4
        }
      ]
    },
    {
      "cell_type": "code",
      "metadata": {
        "colab": {
          "base_uri": "https://localhost:8080/"
        },
        "id": "ZQxRYHa3X6ff",
        "outputId": "50786344-7c93-40f9-9049-813e320f609f"
      },
      "source": [
        "# Get all stock tickers\n",
        "tickers = df_stock_prices['ticker'].unique()\n",
        "tickers"
      ],
      "execution_count": null,
      "outputs": [
        {
          "output_type": "execute_result",
          "data": {
            "text/plain": [
              "array(['A', 'AAL', 'AAP', 'AAPL', 'ABBV', 'ABC', 'ABMD', 'ABT', 'ACN',\n",
              "       'ADBE', 'ADI', 'ADM', 'ADP', 'ADSK', 'AEE', 'AEP', 'AES', 'AFL',\n",
              "       'AIG', 'AIZ', 'AJG', 'AKAM', 'ALB', 'ALGN', 'ALK', 'ALL', 'ALLE',\n",
              "       'AMAT', 'AMCR', 'AMD', 'AME', 'AMGN', 'AMP', 'AMT', 'AMZN', 'ANET',\n",
              "       'ANSS', 'ANTM', 'AON', 'AOS', 'APA', 'APD', 'APH', 'APTV', 'ARE',\n",
              "       'ATO', 'ATVI', 'AVB', 'AVGO', 'AVY', 'AWK', 'AXP', 'AZO', 'BA',\n",
              "       'BAC', 'BAX', 'BBY', 'BDX', 'BEN', 'BF-B', 'BIIB', 'BIO', 'BK',\n",
              "       'BKNG', 'BKR', 'BLK', 'BLL', 'BMY', 'BR', 'BRK-B', 'BSX', 'BWA',\n",
              "       'BXP', 'C', 'CAG', 'CAH', 'CARR', 'CAT', 'CB', 'CBOE', 'CBRE',\n",
              "       'CCI', 'CCL', 'CDNS', 'CDW', 'CE', 'CERN', 'CF', 'CFG', 'CHD',\n",
              "       'CHRW', 'CHTR', 'CI', 'CINF', 'CL', 'CLX', 'CMA', 'CMCSA', 'CME',\n",
              "       'CMG', 'CMI', 'CMS', 'CNC', 'CNP', 'COF', 'COG', 'COO', 'COP',\n",
              "       'COST', 'CPB', 'CPRT', 'CRL', 'CRM', 'CSCO', 'CSX', 'CTAS', 'CTLT',\n",
              "       'CTSH', 'CTVA', 'CTXS', 'CVS', 'CVX', 'CZR', 'D', 'DAL', 'DD',\n",
              "       'DE', 'DFS', 'DG', 'DGX', 'DHI', 'DHR', 'DIS', 'DISCA', 'DISCK',\n",
              "       'DISH', 'DLR', 'DLTR', 'DOV', 'DOW', 'DPZ', 'DRE', 'DRI', 'DTE',\n",
              "       'DUK', 'DVA', 'DVN', 'DXC', 'DXCM', 'EA', 'EBAY', 'ECL', 'ED',\n",
              "       'EFX', 'EIX', 'EL', 'EMN', 'EMR', 'ENPH', 'EOG', 'EQIX', 'EQR',\n",
              "       'ES', 'ESS', 'ETN', 'ETR', 'ETSY', 'EVRG', 'EW', 'EXC', 'EXPD',\n",
              "       'EXPE', 'EXR', 'F', 'FANG', 'FAST', 'FB', 'FBHS', 'FCX', 'FDX',\n",
              "       'FE', 'FFIV', 'FIS', 'FISV', 'FITB', 'FLT', 'FMC', 'FOX', 'FOXA',\n",
              "       'FRC', 'FRT', 'FTNT', 'FTV', 'GD', 'GE', 'GILD', 'GIS', 'GL',\n",
              "       'GLW', 'GM', 'GNRC', 'GOOG', 'GOOGL', 'GPC', 'GPN', 'GPS', 'GRMN',\n",
              "       'GS', 'GWW', 'HAL', 'HAS', 'HBAN', 'HBI', 'HCA', 'HD', 'HES',\n",
              "       'HIG', 'HII', 'HLT', 'HOLX', 'HON', 'HPE', 'HPQ', 'HRL', 'HSIC',\n",
              "       'HST', 'HSY', 'HUM', 'HWM', 'IBM', 'ICE', 'IDXX', 'IEX', 'IFF',\n",
              "       'ILMN', 'INCY', 'INFO', 'INTC', 'INTU', 'IP', 'IPG', 'IPGP', 'IQV',\n",
              "       'IR', 'IRM', 'ISRG', 'IT', 'ITW', 'IVZ', 'J', 'JBHT', 'JCI',\n",
              "       'JKHY', 'JNJ', 'JNPR', 'JPM', 'K', 'KEY', 'KEYS', 'KHC', 'KIM',\n",
              "       'KLAC', 'KMB', 'KMI', 'KMX', 'KO', 'KR', 'KSU', 'L', 'LB', 'LDOS',\n",
              "       'LEG', 'LEN', 'LH', 'LHX', 'LIN', 'LKQ', 'LLY', 'LMT', 'LNC',\n",
              "       'LNT', 'LOW', 'LRCX', 'LUMN', 'LUV', 'LVS', 'LW', 'LYB', 'LYV',\n",
              "       'MA', 'MAA', 'MAR', 'MAS', 'MCD', 'MCHP', 'MCK', 'MCO', 'MDLZ',\n",
              "       'MDT', 'MET', 'MGM', 'MHK', 'MKC', 'MKTX', 'MLM', 'MMC', 'MMM',\n",
              "       'MNST', 'MO', 'MOS', 'MPC', 'MPWR', 'MRK', 'MRNA', 'MRO', 'MS',\n",
              "       'MSCI', 'MSFT', 'MSI', 'MTB', 'MTD', 'MU', 'MXIM', 'NCLH', 'NDAQ',\n",
              "       'NEE', 'NEM', 'NFLX', 'NI', 'NKE', 'NLOK', 'NLSN', 'NOC', 'NOV',\n",
              "       'NOW', 'NRG', 'NSC', 'NTAP', 'NTRS', 'NUE', 'NVDA', 'NVR', 'NWL',\n",
              "       'NWS', 'NWSA', 'NXPI', 'O', 'ODFL', 'OGN', 'OKE', 'OMC', 'ORCL',\n",
              "       'ORLY', 'OTIS', 'OXY', 'PAYC', 'PAYX', 'PBCT', 'PCAR', 'PEAK',\n",
              "       'PEG', 'PENN', 'PEP', 'PFE', 'PFG', 'PG', 'PGR', 'PH', 'PHM',\n",
              "       'PKG', 'PKI', 'PLD', 'PM', 'PNC', 'PNR', 'PNW', 'POOL', 'PPG',\n",
              "       'PPL', 'PRGO', 'PRU', 'PSA', 'PSX', 'PTC', 'PVH', 'PWR', 'PXD',\n",
              "       'PYPL', 'QCOM', 'QRVO', 'RCL', 'RE', 'REG', 'REGN', 'RF', 'RHI',\n",
              "       'RJF', 'RL', 'RMD', 'ROK', 'ROL', 'ROP', 'ROST', 'RSG', 'RTX',\n",
              "       'SBAC', 'SBUX', 'SCHW', 'SEE', 'SHW', 'SIVB', 'SJM', 'SLB', 'SNA',\n",
              "       'SNPS', 'SO', 'SPG', 'SPGI', 'SRE', 'STE', 'STT', 'STX', 'STZ',\n",
              "       'SWK', 'SWKS', 'SYF', 'SYK', 'SYY', 'T', 'TAP', 'TDG', 'TDY',\n",
              "       'TEL', 'TER', 'TFC', 'TFX', 'TGT', 'TJX', 'TMO', 'TMUS', 'TPR',\n",
              "       'TRMB', 'TROW', 'TRV', 'TSCO', 'TSLA', 'TSN', 'TT', 'TTWO', 'TWTR',\n",
              "       'TXN', 'TXT', 'TYL', 'UA', 'UAA', 'UAL', 'UDR', 'UHS', 'ULTA',\n",
              "       'UNH', 'UNM', 'UNP', 'UPS', 'URI', 'USB', 'V', 'VFC', 'VIAC',\n",
              "       'VLO', 'VMC', 'VNO', 'VRSK', 'VRSN', 'VRTX', 'VTR', 'VTRS', 'VZ',\n",
              "       'WAB', 'WAT', 'WBA', 'WDC', 'WEC', 'WELL', 'WFC', 'WHR', 'WLTW',\n",
              "       'WM', 'WMB', 'WMT', 'WRB', 'WRK', 'WST', 'WU', 'WY', 'WYNN', 'XEL',\n",
              "       'XLNX', 'XOM', 'XRAY', 'XYL', 'YUM', 'ZBH', 'ZBRA', 'ZION', 'ZTS'],\n",
              "      dtype=object)"
            ]
          },
          "metadata": {
            "tags": []
          },
          "execution_count": 5
        }
      ]
    },
    {
      "cell_type": "code",
      "metadata": {
        "colab": {
          "base_uri": "https://localhost:8080/",
          "height": 325
        },
        "id": "hPdy-8cEBAAi",
        "outputId": "ca13dcbd-f448-4fe6-ebb0-1feda9331f45"
      },
      "source": [
        "# Plot average stock price over time for a specific stock\n",
        "ticker = 'T'\n",
        "\n",
        "price_ticker_mask = (df_stock_prices['ticker'] == ticker)\n",
        "x = df_stock_prices.loc[price_ticker_mask, 'date']\n",
        "y = df_stock_prices.loc[price_ticker_mask, 'adj_close']\n",
        "plt.xticks(rotation = 30)\n",
        "plt.plot(x, y)\n",
        "plt.fill_between(x,y, alpha=0.4)\n",
        "plt.xlabel(\"Date\", labelpad=13, fontsize=13)\n",
        "plt.ylabel(\"Adjusted Close Price\", labelpad=13, fontsize=13)\n",
        "plt.title(f\"{ticker} Stock Price\", y=1.02, fontsize=15);\n",
        "\n",
        "plt.show()"
      ],
      "execution_count": null,
      "outputs": [
        {
          "output_type": "display_data",
          "data": {
            "image/png": "[encoded data removed]",
            "text/plain": [
              "<Figure size 432x288 with 1 Axes>"
            ]
          },
          "metadata": {
            "tags": [],
            "needs_background": "light"
          }
        }
      ]
    },
    {
      "cell_type": "code",
      "metadata": {
        "id": "M_JsC3T-cf_G"
      },
      "source": [
        "# Removes special characters and punctuation from tweet\n",
        "# Code from https://www.geeksforgeeks.org/twitter-sentiment-analysis-using-python/\n",
        "def clean_tweet(tweet):\n",
        "    return ' '.join(re.sub(\"(@[A-Za-z0-9]+)|([^0-9A-Za-z \\t])|(\\w+:\\/\\/\\S+)\", \" \", tweet).split())"
      ],
      "execution_count": null,
      "outputs": []
    },
    {
      "cell_type": "code",
      "metadata": {
        "colab": {
          "base_uri": "https://localhost:8080/",
          "height": 417
        },
        "id": "AlBqA4IlFGea",
        "outputId": "cd911ee3-723c-4e7e-8e58-cc2854050c7b"
      },
      "source": [
        "# Read csv containaing stock tweets and sentiments\n",
        "path = \"./drive/MyDrive/stock_tweet_sentiments.csv\"\n",
        "df_tweet_sentiments = pd.read_csv(path)\n",
        "df_tweet_sentiments.columns= df_tweet_sentiments.columns.str.lower()\n",
        "df_tweet_sentiments['text'] = df_tweet_sentiments['text'].apply(clean_tweet)\n",
        "df_tweet_sentiments"
      ],
      "execution_count": null,
      "outputs": [
        {
          "output_type": "execute_result",
          "data": {
            "text/html": [
              "<div>\n",
              "<style scoped>\n",
              "    .dataframe tbody tr th:only-of-type {\n",
              "        vertical-align: middle;\n",
              "    }\n",
              "\n",
              "    .dataframe tbody tr th {\n",
              "        vertical-align: top;\n",
              "    }\n",
              "\n",
              "    .dataframe thead th {\n",
              "        text-align: right;\n",
              "    }\n",
              "</style>\n",
              "<table border=\"1\" class=\"dataframe\">\n",
              "  <thead>\n",
              "    <tr style=\"text-align: right;\">\n",
              "      <th></th>\n",
              "      <th>text</th>\n",
              "      <th>sentiment</th>\n",
              "    </tr>\n",
              "  </thead>\n",
              "  <tbody>\n",
              "    <tr>\n",
              "      <th>0</th>\n",
              "      <td>Kickers on my watchlist XIDE TIT SOQ PNK CPW B...</td>\n",
              "      <td>1</td>\n",
              "    </tr>\n",
              "    <tr>\n",
              "      <th>1</th>\n",
              "      <td>user AAP MOVIE 55 return for the FEA GEED indi...</td>\n",
              "      <td>1</td>\n",
              "    </tr>\n",
              "    <tr>\n",
              "      <th>2</th>\n",
              "      <td>user I d be afraid to short AMZN they are look...</td>\n",
              "      <td>1</td>\n",
              "    </tr>\n",
              "    <tr>\n",
              "      <th>3</th>\n",
              "      <td>MNTA Over 12 00</td>\n",
              "      <td>1</td>\n",
              "    </tr>\n",
              "    <tr>\n",
              "      <th>4</th>\n",
              "      <td>OI Over 21 37</td>\n",
              "      <td>1</td>\n",
              "    </tr>\n",
              "    <tr>\n",
              "      <th>...</th>\n",
              "      <td>...</td>\n",
              "      <td>...</td>\n",
              "    </tr>\n",
              "    <tr>\n",
              "      <th>5786</th>\n",
              "      <td>Industry body CII said discoms are likely to s...</td>\n",
              "      <td>-1</td>\n",
              "    </tr>\n",
              "    <tr>\n",
              "      <th>5787</th>\n",
              "      <td>Gold prices slip below Rs 46 000 as investors ...</td>\n",
              "      <td>-1</td>\n",
              "    </tr>\n",
              "    <tr>\n",
              "      <th>5788</th>\n",
              "      <td>Workers at Bajaj Auto have agreed to a 10 wage...</td>\n",
              "      <td>1</td>\n",
              "    </tr>\n",
              "    <tr>\n",
              "      <th>5789</th>\n",
              "      <td>Sharemarket LIVE Sensex off day s high up 600 ...</td>\n",
              "      <td>1</td>\n",
              "    </tr>\n",
              "    <tr>\n",
              "      <th>5790</th>\n",
              "      <td>Sensex Nifty climb off day s highs still up 2 ...</td>\n",
              "      <td>1</td>\n",
              "    </tr>\n",
              "  </tbody>\n",
              "</table>\n",
              "<p>5791 rows × 2 columns</p>\n",
              "</div>"
            ],
            "text/plain": [
              "                                                   text  sentiment\n",
              "0     Kickers on my watchlist XIDE TIT SOQ PNK CPW B...          1\n",
              "1     user AAP MOVIE 55 return for the FEA GEED indi...          1\n",
              "2     user I d be afraid to short AMZN they are look...          1\n",
              "3                                       MNTA Over 12 00          1\n",
              "4                                         OI Over 21 37          1\n",
              "...                                                 ...        ...\n",
              "5786  Industry body CII said discoms are likely to s...         -1\n",
              "5787  Gold prices slip below Rs 46 000 as investors ...         -1\n",
              "5788  Workers at Bajaj Auto have agreed to a 10 wage...          1\n",
              "5789  Sharemarket LIVE Sensex off day s high up 600 ...          1\n",
              "5790  Sensex Nifty climb off day s highs still up 2 ...          1\n",
              "\n",
              "[5791 rows x 2 columns]"
            ]
          },
          "metadata": {
            "tags": []
          },
          "execution_count": 9
        }
      ]
    },
    {
      "cell_type": "code",
      "metadata": {
        "colab": {
          "base_uri": "https://localhost:8080/"
        },
        "id": "RWanrkkKiEVD",
        "outputId": "01a6d3e5-2d7d-4bd1-c30b-ec79040ae427"
      },
      "source": [
        "# Import nltk and metric libraries\n",
        "import nltk\n",
        "nltk.download('brown')\n",
        "nltk.download('punkt')\n",
        "!pip install vaderSentiment\n",
        "from vaderSentiment.vaderSentiment import SentimentIntensityAnalyzer\n",
        "\n",
        "from sklearn.metrics import accuracy_score, classification_report"
      ],
      "execution_count": null,
      "outputs": [
        {
          "output_type": "stream",
          "text": [
            "[nltk_data] Downloading package brown to /root/nltk_data...\n",
            "[nltk_data]   Package brown is already up-to-date!\n",
            "[nltk_data] Downloading package punkt to /root/nltk_data...\n",
            "[nltk_data]   Package punkt is already up-to-date!\n",
            "Requirement already satisfied: vaderSentiment in /usr/local/lib/python3.7/dist-packages (3.3.2)\n",
            "Requirement already satisfied: requests in /usr/local/lib/python3.7/dist-packages (from vaderSentiment) (2.23.0)\n",
            "Requirement already satisfied: certifi>=2017.4.17 in /usr/local/lib/python3.7/dist-packages (from requests->vaderSentiment) (2021.5.30)\n",
            "Requirement already satisfied: urllib3!=1.25.0,!=1.25.1,<1.26,>=1.21.1 in /usr/local/lib/python3.7/dist-packages (from requests->vaderSentiment) (1.24.3)\n",
            "Requirement already satisfied: chardet<4,>=3.0.2 in /usr/local/lib/python3.7/dist-packages (from requests->vaderSentiment) (3.0.4)\n",
            "Requirement already satisfied: idna<3,>=2.5 in /usr/local/lib/python3.7/dist-packages (from requests->vaderSentiment) (2.10)\n"
          ],
          "name": "stdout"
        }
      ]
    },
    {
      "cell_type": "code",
      "metadata": {
        "colab": {
          "base_uri": "https://localhost:8080/"
        },
        "id": "ssuxXwk0is3m",
        "outputId": "d3639ee9-aeac-4bb3-f289-42027d7fdff5"
      },
      "source": [
        "# Test Vader classifier\n",
        "sid = SentimentIntensityAnalyzer()\n",
        "\n",
        "# Calculate accuracy of Vader model from labelled tweets\n",
        "y_pred = []\n",
        "y_test = []\n",
        "count = 0\n",
        "for _, tweet in df_tweet_sentiments.iterrows():\n",
        "  polarity_score = sid.polarity_scores(tweet.text)[\"compound\"]\n",
        "  sentiment_pred = 1 if polarity_score >= 0 else -1\n",
        "  y_pred.append(sentiment_pred)\n",
        "  y_test.append(tweet.sentiment)\n",
        "\n",
        "accuracy = round(accuracy_score(y_test, y_pred) * 100, 2)\n",
        "print(f\"Accuracy is {accuracy}%\")\n",
        "print(\"Classification Report:\\n\")\n",
        "print(classification_report(y_test, y_pred))"
      ],
      "execution_count": null,
      "outputs": [
        {
          "output_type": "stream",
          "text": [
            "Accuracy is 66.4%\n",
            "Classification Report:\n",
            "\n",
            "              precision    recall  f1-score   support\n",
            "\n",
            "          -1       0.56      0.36      0.43      2106\n",
            "           1       0.70      0.84      0.76      3685\n",
            "\n",
            "    accuracy                           0.66      5791\n",
            "   macro avg       0.63      0.60      0.60      5791\n",
            "weighted avg       0.65      0.66      0.64      5791\n",
            "\n"
          ],
          "name": "stdout"
        }
      ]
    },
    {
      "cell_type": "code",
      "metadata": {
        "id": "4hyNIH31gR6E",
        "colab": {
          "base_uri": "https://localhost:8080/",
          "height": 434
        },
        "outputId": "df37fed6-c5c3-4b58-d845-85410eea4f53"
      },
      "source": [
        "# Get tweets about top companies from 2015 to 2020\n",
        "path = \"./drive/MyDrive/stock_tweets.csv\"\n",
        "df_stock_tweets = pd.read_csv(path)\n",
        "\n",
        "df_stock_tweets.drop(columns=['tweet_id', 'writer', 'comment_num', 'retweet_num', 'like_num'], inplace=True)\n",
        "df_stock_tweets.rename(columns={'post_date': 'date', 'body': 'text'}, inplace=True)\n",
        "df_stock_tweets['date'] = pd.to_datetime(df_stock_tweets['date'], unit='s').dt.date\n",
        "df_stock_tweets['text'] = df_stock_tweets['text'].apply(clean_tweet)\n",
        "df_stock_tweets.sort_values(by='date', inplace=True)\n",
        "print(df_stock_tweets.shape[0])\n",
        "df_stock_tweets"
      ],
      "execution_count": null,
      "outputs": [
        {
          "output_type": "stream",
          "text": [
            "3717964\n"
          ],
          "name": "stdout"
        },
        {
          "output_type": "execute_result",
          "data": {
            "text/html": [
              "<div>\n",
              "<style scoped>\n",
              "    .dataframe tbody tr th:only-of-type {\n",
              "        vertical-align: middle;\n",
              "    }\n",
              "\n",
              "    .dataframe tbody tr th {\n",
              "        vertical-align: top;\n",
              "    }\n",
              "\n",
              "    .dataframe thead th {\n",
              "        text-align: right;\n",
              "    }\n",
              "</style>\n",
              "<table border=\"1\" class=\"dataframe\">\n",
              "  <thead>\n",
              "    <tr style=\"text-align: right;\">\n",
              "      <th></th>\n",
              "      <th>date</th>\n",
              "      <th>text</th>\n",
              "    </tr>\n",
              "  </thead>\n",
              "  <tbody>\n",
              "    <tr>\n",
              "      <th>0</th>\n",
              "      <td>2015-01-01</td>\n",
              "      <td>lx21 made 10 008 on AAPL Check it out Learn ho...</td>\n",
              "    </tr>\n",
              "    <tr>\n",
              "      <th>386</th>\n",
              "      <td>2015-01-01</td>\n",
              "      <td>Google Fiber s latest FCC filing is Comcast s ...</td>\n",
              "    </tr>\n",
              "    <tr>\n",
              "      <th>387</th>\n",
              "      <td>2015-01-01</td>\n",
              "      <td>Jeff Bezos lost 7 4 billion in Amazon s worst ...</td>\n",
              "    </tr>\n",
              "    <tr>\n",
              "      <th>388</th>\n",
              "      <td>2015-01-01</td>\n",
              "      <td>TSLA Weekly Updated via</td>\n",
              "    </tr>\n",
              "    <tr>\n",
              "      <th>389</th>\n",
              "      <td>2015-01-01</td>\n",
              "      <td>MSFT What Microsoft s fresh start browser stra...</td>\n",
              "    </tr>\n",
              "    <tr>\n",
              "      <th>...</th>\n",
              "      <td>...</td>\n",
              "      <td>...</td>\n",
              "    </tr>\n",
              "    <tr>\n",
              "      <th>3716509</th>\n",
              "      <td>2019-12-31</td>\n",
              "      <td>Stock Market Watchlist for 31 Dec 2019 SPY BA ...</td>\n",
              "    </tr>\n",
              "    <tr>\n",
              "      <th>3716508</th>\n",
              "      <td>2019-12-31</td>\n",
              "      <td>AMZN ZNGA Amazon Zynga Named Top Internet Sect...</td>\n",
              "    </tr>\n",
              "    <tr>\n",
              "      <th>3716507</th>\n",
              "      <td>2019-12-31</td>\n",
              "      <td>Trading Seasonality using Vertical Call Spread...</td>\n",
              "    </tr>\n",
              "    <tr>\n",
              "      <th>3716521</th>\n",
              "      <td>2019-12-31</td>\n",
              "      <td>Good morning folks last trading day of the dec...</td>\n",
              "    </tr>\n",
              "    <tr>\n",
              "      <th>3717963</th>\n",
              "      <td>2019-12-31</td>\n",
              "      <td>AAPL patent 10 522 475 Vertical interconnects ...</td>\n",
              "    </tr>\n",
              "  </tbody>\n",
              "</table>\n",
              "<p>3717964 rows × 2 columns</p>\n",
              "</div>"
            ],
            "text/plain": [
              "               date                                               text\n",
              "0        2015-01-01  lx21 made 10 008 on AAPL Check it out Learn ho...\n",
              "386      2015-01-01  Google Fiber s latest FCC filing is Comcast s ...\n",
              "387      2015-01-01  Jeff Bezos lost 7 4 billion in Amazon s worst ...\n",
              "388      2015-01-01                            TSLA Weekly Updated via\n",
              "389      2015-01-01  MSFT What Microsoft s fresh start browser stra...\n",
              "...             ...                                                ...\n",
              "3716509  2019-12-31  Stock Market Watchlist for 31 Dec 2019 SPY BA ...\n",
              "3716508  2019-12-31  AMZN ZNGA Amazon Zynga Named Top Internet Sect...\n",
              "3716507  2019-12-31  Trading Seasonality using Vertical Call Spread...\n",
              "3716521  2019-12-31  Good morning folks last trading day of the dec...\n",
              "3717963  2019-12-31  AAPL patent 10 522 475 Vertical interconnects ...\n",
              "\n",
              "[3717964 rows x 2 columns]"
            ]
          },
          "metadata": {
            "tags": []
          },
          "execution_count": 16
        }
      ]
    },
    {
      "cell_type": "code",
      "metadata": {
        "colab": {
          "base_uri": "https://localhost:8080/"
        },
        "id": "ItgWmk1LGNP8",
        "outputId": "d810cd91-124b-473d-fba5-e6c8b1c487be"
      },
      "source": [
        "# Remove dates from stock price dataframe that aren't included in the stock tweets dataset, and only keep the 1 million most recent tweets\n",
        "num_tweets = 2000000\n",
        "\n",
        "df_stock_tweets = df_stock_tweets.tail(num_tweets) # Reduce dataset size, select starting from most recent tweets\n",
        "df_stock_tweets.reset_index(drop=True, inplace=True)\n",
        "\n",
        "start_date = df_stock_tweets.iloc[0]['date']\n",
        "end_date = df_stock_tweets.iloc[-1]['date']\n",
        "\n",
        "stock_price_mask = (df_stock_prices['date'] >= start_date) & (df_stock_prices['date'] <= end_date)\n",
        "df_stock_prices = df_stock_prices.loc[stock_price_mask]\n",
        "\n",
        "print(df_stock_prices.shape[0], df_stock_tweets.shape[0])\n",
        "print(df_stock_prices)\n",
        "print(df_stock_tweets)"
      ],
      "execution_count": null,
      "outputs": [
        {
          "output_type": "stream",
          "text": [
            "350877 2000000\n",
            "         unnamed: 0 ticker        date  ...       close   volume   adj_close\n",
            "1812           1812      A  2017-03-16  ...   53.049999  2676900   51.091694\n",
            "1813           1813      A  2017-03-17  ...   53.310001  1936900   51.342113\n",
            "1814           1814      A  2017-03-20  ...   53.150002  1221400   51.188011\n",
            "1815           1815      A  2017-03-21  ...   52.660000  1492700   50.716099\n",
            "1816           1816      A  2017-03-22  ...   53.130001  1257100   51.168747\n",
            "...             ...    ...         ...  ...         ...      ...         ...\n",
            "1409312     1409312    ZTS  2019-12-24  ...  132.919998   442500  131.595566\n",
            "1409313     1409313    ZTS  2019-12-26  ...  133.029999   929400  131.704453\n",
            "1409314     1409314    ZTS  2019-12-27  ...  133.250000  1296100  131.922272\n",
            "1409315     1409315    ZTS  2019-12-30  ...  132.210007   942000  130.892654\n",
            "1409316     1409316    ZTS  2019-12-31  ...  132.350006  1128600  131.031250\n",
            "\n",
            "[350877 rows x 9 columns]\n",
            "               date                                               text\n",
            "0        2017-03-16  Apple Inc AAPL Sets New 12 Month High After An...\n",
            "1        2017-03-16  I m no expert but aren t convertible notes usu...\n",
            "2        2017-03-16    Wonders shall never end TSLA rises on offerings\n",
            "3        2017-03-16  TSLA AAPL Stocks Back Near Record Highs These ...\n",
            "4        2017-03-16  AAPL COMPQ NQ F From September 2016 152 02 tar...\n",
            "...             ...                                                ...\n",
            "1999995  2019-12-31  Stock Market Watchlist for 31 Dec 2019 SPY BA ...\n",
            "1999996  2019-12-31  AMZN ZNGA Amazon Zynga Named Top Internet Sect...\n",
            "1999997  2019-12-31  Trading Seasonality using Vertical Call Spread...\n",
            "1999998  2019-12-31  Good morning folks last trading day of the dec...\n",
            "1999999  2019-12-31  AAPL patent 10 522 475 Vertical interconnects ...\n",
            "\n",
            "[2000000 rows x 2 columns]\n"
          ],
          "name": "stdout"
        }
      ]
    },
    {
      "cell_type": "code",
      "metadata": {
        "id": "wKS9Dd70hzQ8"
      },
      "source": [
        "# Returns all stock mentioned in a tweet\n",
        "def get_stocks_in_tweet(tweet):\n",
        "  tweet = tweet.split()\n",
        "  return [ticker for ticker in tickers if ticker in tweet]"
      ],
      "execution_count": null,
      "outputs": []
    },
    {
      "cell_type": "code",
      "metadata": {
        "colab": {
          "base_uri": "https://localhost:8080/",
          "height": 450
        },
        "id": "bbcDRwtv5VXH",
        "outputId": "82e17a48-2349-4864-a808-9f8b06377345"
      },
      "source": [
        "# Get average sentiment each day for all mentioned stocks\n",
        "# stock_sentiment_dict = collections.defaultdict(list)\n",
        "stock_sentiment_dict = dict()\n",
        "\n",
        "start_time = datetime.now()\n",
        "\n",
        "# Create progress bar\n",
        "widgets = [\n",
        "  ' [', progressbar.Timer(), '] ',\n",
        "  progressbar.Bar(),\n",
        "  ' (', progressbar.ETA(), ') '\n",
        "]\n",
        "bar = progressbar.ProgressBar(\n",
        "    widgets=widgets, max_value=df_stock_tweets.shape[0]).start()\n",
        "\n",
        "for index, tweet in df_stock_tweets.iterrows():\n",
        "  # Update progress bar\n",
        "  bar.update(index + 1)\n",
        "\n",
        "  date = tweet['date']\n",
        "  polarity_score = sid.polarity_scores(tweet['text'])['compound']\n",
        "  mentioned_stocks = get_stocks_in_tweet(tweet['text'])\n",
        "  for stock in mentioned_stocks:\n",
        "    if (stock, date) in stock_sentiment_dict:\n",
        "      sum_polarity_score, len_polarity_score = stock_sentiment_dict[(stock, date)]\n",
        "      stock_sentiment_dict[(stock, date)] = (sum_polarity_score+polarity_score, len_polarity_score+1)\n",
        "    else:\n",
        "      stock_sentiment_dict[(stock, date)] = (polarity_score, 1)\n",
        "    # stock_sentiment_dict[(stock, date)].append(polarity_score)\n",
        "    \n",
        "bar.finish()\n",
        "\n",
        "stock_sentiments = list()\n",
        "for (stock, date), (sum_polarity_score, len_polarity_score) in stock_sentiment_dict.items():\n",
        "  # avg_polarity_score = sum(polarity_scores)/len(polarity_scores)\n",
        "  stock_sentiments.append([stock, date, round(sum_polarity_score/len_polarity_score, 4)])\n",
        "\n",
        "df_stock_sentiments = pd.DataFrame(stock_sentiments,columns=['ticker','date','avg_sentiment'])\n",
        "df_stock_sentiments.sort_values(by=['ticker', 'date'], inplace=True)\n",
        "\n",
        "\n",
        "end_time = datetime.now()\n",
        "print(f\"Runtime: {str(end_time - start_time)[:-3]}\")\n",
        "df_stock_sentiments.loc[df_stock_sentiments['ticker']=='TSLA']"
      ],
      "execution_count": null,
      "outputs": [
        {
          "output_type": "stream",
          "text": [
            " [Elapsed Time: 0:18:41] |##################################| (Time:  0:18:41) \n"
          ],
          "name": "stderr"
        },
        {
          "output_type": "stream",
          "text": [
            "Runtime: 0:18:42.390\n"
          ],
          "name": "stdout"
        },
        {
          "output_type": "execute_result",
          "data": {
            "text/html": [
              "<div>\n",
              "<style scoped>\n",
              "    .dataframe tbody tr th:only-of-type {\n",
              "        vertical-align: middle;\n",
              "    }\n",
              "\n",
              "    .dataframe tbody tr th {\n",
              "        vertical-align: top;\n",
              "    }\n",
              "\n",
              "    .dataframe thead th {\n",
              "        text-align: right;\n",
              "    }\n",
              "</style>\n",
              "<table border=\"1\" class=\"dataframe\">\n",
              "  <thead>\n",
              "    <tr style=\"text-align: right;\">\n",
              "      <th></th>\n",
              "      <th>ticker</th>\n",
              "      <th>date</th>\n",
              "      <th>avg_sentiment</th>\n",
              "    </tr>\n",
              "  </thead>\n",
              "  <tbody>\n",
              "    <tr>\n",
              "      <th>1</th>\n",
              "      <td>TSLA</td>\n",
              "      <td>2017-03-16</td>\n",
              "      <td>0.0873</td>\n",
              "    </tr>\n",
              "    <tr>\n",
              "      <th>48</th>\n",
              "      <td>TSLA</td>\n",
              "      <td>2017-03-17</td>\n",
              "      <td>0.1076</td>\n",
              "    </tr>\n",
              "    <tr>\n",
              "      <th>211</th>\n",
              "      <td>TSLA</td>\n",
              "      <td>2017-03-18</td>\n",
              "      <td>0.1731</td>\n",
              "    </tr>\n",
              "    <tr>\n",
              "      <th>312</th>\n",
              "      <td>TSLA</td>\n",
              "      <td>2017-03-19</td>\n",
              "      <td>0.2035</td>\n",
              "    </tr>\n",
              "    <tr>\n",
              "      <th>395</th>\n",
              "      <td>TSLA</td>\n",
              "      <td>2017-03-20</td>\n",
              "      <td>0.1061</td>\n",
              "    </tr>\n",
              "    <tr>\n",
              "      <th>...</th>\n",
              "      <td>...</td>\n",
              "      <td>...</td>\n",
              "      <td>...</td>\n",
              "    </tr>\n",
              "    <tr>\n",
              "      <th>189628</th>\n",
              "      <td>TSLA</td>\n",
              "      <td>2019-12-27</td>\n",
              "      <td>0.1169</td>\n",
              "    </tr>\n",
              "    <tr>\n",
              "      <th>189860</th>\n",
              "      <td>TSLA</td>\n",
              "      <td>2019-12-28</td>\n",
              "      <td>0.1754</td>\n",
              "    </tr>\n",
              "    <tr>\n",
              "      <th>190000</th>\n",
              "      <td>TSLA</td>\n",
              "      <td>2019-12-29</td>\n",
              "      <td>0.1394</td>\n",
              "    </tr>\n",
              "    <tr>\n",
              "      <th>190161</th>\n",
              "      <td>TSLA</td>\n",
              "      <td>2019-12-30</td>\n",
              "      <td>0.1223</td>\n",
              "    </tr>\n",
              "    <tr>\n",
              "      <th>190375</th>\n",
              "      <td>TSLA</td>\n",
              "      <td>2019-12-31</td>\n",
              "      <td>0.1475</td>\n",
              "    </tr>\n",
              "  </tbody>\n",
              "</table>\n",
              "<p>1021 rows × 3 columns</p>\n",
              "</div>"
            ],
            "text/plain": [
              "       ticker        date  avg_sentiment\n",
              "1        TSLA  2017-03-16         0.0873\n",
              "48       TSLA  2017-03-17         0.1076\n",
              "211      TSLA  2017-03-18         0.1731\n",
              "312      TSLA  2017-03-19         0.2035\n",
              "395      TSLA  2017-03-20         0.1061\n",
              "...       ...         ...            ...\n",
              "189628   TSLA  2019-12-27         0.1169\n",
              "189860   TSLA  2019-12-28         0.1754\n",
              "190000   TSLA  2019-12-29         0.1394\n",
              "190161   TSLA  2019-12-30         0.1223\n",
              "190375   TSLA  2019-12-31         0.1475\n",
              "\n",
              "[1021 rows x 3 columns]"
            ]
          },
          "metadata": {
            "tags": []
          },
          "execution_count": 19
        }
      ]
    },
    {
      "cell_type": "code",
      "metadata": {
        "id": "je0FrY_cmSBH",
        "colab": {
          "base_uri": "https://localhost:8080/",
          "height": 333
        },
        "outputId": "e61b35dd-9250-4e80-e9fc-b8fcf5ea50a0"
      },
      "source": [
        "# Plot average sentiment over time for a specific stock\n",
        "ticker = 'CVS'\n",
        "\n",
        "sentiment_date_mask = (df_stock_sentiments['date'] >= start_date) & (df_stock_sentiments['date'] <= end_date)\n",
        "sentiment_ticker_mask = (df_stock_sentiments['ticker'] == ticker)\n",
        "x = df_stock_sentiments.loc[sentiment_date_mask & sentiment_ticker_mask, 'date']\n",
        "y = df_stock_sentiments.loc[sentiment_date_mask & sentiment_ticker_mask, 'avg_sentiment']\n",
        "plt.xticks(rotation=30)\n",
        "plt.plot(x, y)\n",
        "plt.xlabel(\"Date\", labelpad=13, fontsize=13)\n",
        "plt.ylabel(\"Average Sentiment\", labelpad=13, fontsize=13)\n",
        "plt.title(f\"{ticker} Sentiment\", y=1.02, fontsize=15);\n",
        "\n",
        "plt.show()"
      ],
      "execution_count": null,
      "outputs": [
        {
          "output_type": "display_data",
          "data": {
            "image/png": "[encoded data removed]",
            "text/plain": [
              "<Figure size 432x288 with 1 Axes>"
            ]
          },
          "metadata": {
            "tags": [],
            "needs_background": "light"
          }
        }
      ]
    },
    {
      "cell_type": "code",
      "metadata": {
        "colab": {
          "base_uri": "https://localhost:8080/",
          "height": 447
        },
        "id": "jsjUET8bkJOG",
        "outputId": "1bea151e-f115-4d0b-f5b0-3acf3317ea81"
      },
      "source": [
        "# Merge stock prices and stock sentiments by date and ticker\n",
        "df_merged = pd.merge(df_stock_prices[['ticker', 'date', 'adj_close']], df_stock_sentiments[['ticker', 'date', 'avg_sentiment']], how='inner')\n",
        "df_merged = df_merged.loc[df_merged['ticker'] == ticker, ['date', 'adj_close', 'avg_sentiment']]\n",
        "df_merged.set_index('date', inplace=True)\n",
        "df_merged"
      ],
      "execution_count": null,
      "outputs": [
        {
          "output_type": "execute_result",
          "data": {
            "text/html": [
              "<div>\n",
              "<style scoped>\n",
              "    .dataframe tbody tr th:only-of-type {\n",
              "        vertical-align: middle;\n",
              "    }\n",
              "\n",
              "    .dataframe tbody tr th {\n",
              "        vertical-align: top;\n",
              "    }\n",
              "\n",
              "    .dataframe thead th {\n",
              "        text-align: right;\n",
              "    }\n",
              "</style>\n",
              "<table border=\"1\" class=\"dataframe\">\n",
              "  <thead>\n",
              "    <tr style=\"text-align: right;\">\n",
              "      <th></th>\n",
              "      <th>adj_close</th>\n",
              "      <th>avg_sentiment</th>\n",
              "    </tr>\n",
              "    <tr>\n",
              "      <th>date</th>\n",
              "      <th></th>\n",
              "      <th></th>\n",
              "    </tr>\n",
              "  </thead>\n",
              "  <tbody>\n",
              "    <tr>\n",
              "      <th>2017-03-22</th>\n",
              "      <td>68.767570</td>\n",
              "      <td>0.0000</td>\n",
              "    </tr>\n",
              "    <tr>\n",
              "      <th>2017-03-23</th>\n",
              "      <td>68.627342</td>\n",
              "      <td>0.5106</td>\n",
              "    </tr>\n",
              "    <tr>\n",
              "      <th>2017-03-28</th>\n",
              "      <td>68.899040</td>\n",
              "      <td>-0.4404</td>\n",
              "    </tr>\n",
              "    <tr>\n",
              "      <th>2017-03-29</th>\n",
              "      <td>69.030502</td>\n",
              "      <td>0.8316</td>\n",
              "    </tr>\n",
              "    <tr>\n",
              "      <th>2017-03-30</th>\n",
              "      <td>69.109406</td>\n",
              "      <td>0.8316</td>\n",
              "    </tr>\n",
              "    <tr>\n",
              "      <th>...</th>\n",
              "      <td>...</td>\n",
              "      <td>...</td>\n",
              "    </tr>\n",
              "    <tr>\n",
              "      <th>2019-12-23</th>\n",
              "      <td>70.714760</td>\n",
              "      <td>-0.0427</td>\n",
              "    </tr>\n",
              "    <tr>\n",
              "      <th>2019-12-24</th>\n",
              "      <td>70.838348</td>\n",
              "      <td>-0.0516</td>\n",
              "    </tr>\n",
              "    <tr>\n",
              "      <th>2019-12-26</th>\n",
              "      <td>70.809837</td>\n",
              "      <td>0.1808</td>\n",
              "    </tr>\n",
              "    <tr>\n",
              "      <th>2019-12-30</th>\n",
              "      <td>70.068268</td>\n",
              "      <td>0.4421</td>\n",
              "    </tr>\n",
              "    <tr>\n",
              "      <th>2019-12-31</th>\n",
              "      <td>70.629189</td>\n",
              "      <td>0.2194</td>\n",
              "    </tr>\n",
              "  </tbody>\n",
              "</table>\n",
              "<p>644 rows × 2 columns</p>\n",
              "</div>"
            ],
            "text/plain": [
              "            adj_close  avg_sentiment\n",
              "date                                \n",
              "2017-03-22  68.767570         0.0000\n",
              "2017-03-23  68.627342         0.5106\n",
              "2017-03-28  68.899040        -0.4404\n",
              "2017-03-29  69.030502         0.8316\n",
              "2017-03-30  69.109406         0.8316\n",
              "...               ...            ...\n",
              "2019-12-23  70.714760        -0.0427\n",
              "2019-12-24  70.838348        -0.0516\n",
              "2019-12-26  70.809837         0.1808\n",
              "2019-12-30  70.068268         0.4421\n",
              "2019-12-31  70.629189         0.2194\n",
              "\n",
              "[644 rows x 2 columns]"
            ]
          },
          "metadata": {
            "tags": []
          },
          "execution_count": 123
        }
      ]
    },
    {
      "cell_type": "code",
      "metadata": {
        "colab": {
          "base_uri": "https://localhost:8080/",
          "height": 407
        },
        "id": "ZTEgvIgIK-OE",
        "outputId": "fe0df57f-2eb7-45ad-afeb-8011b138ffae"
      },
      "source": [
        "# Plot adjacent closing price and average sentiment over time\n",
        "# Code from https://towardsdatascience.com/granger-causality-and-vector-auto-regressive-model-for-time-series-forecasting-3226a64889a6\n",
        "fig, axes = plt.subplots(nrows=2, ncols=1, dpi=100)\n",
        "for i, ax in enumerate(axes.flatten()):\n",
        "  data = df_merged[df_merged.columns[i]]\n",
        "  ax.plot(data, color='red', linewidth=1)\n",
        "  ax.set_title(df_merged.columns[i])\n",
        "  ax.xaxis.set_ticks_position('none')\n",
        "  ax.yaxis.set_ticks_position('none')\n",
        "  ax.spines['top'].set_alpha(0)\n",
        "  ax.tick_params(labelsize=6)\n",
        "plt.tight_layout();"
      ],
      "execution_count": null,
      "outputs": [
        {
          "output_type": "display_data",
          "data": {
            "image/png": "[encoded data removed]",
            "text/plain": [
              "<Figure size 600x400 with 2 Axes>"
            ]
          },
          "metadata": {
            "tags": [],
            "needs_background": "light"
          }
        }
      ]
    },
    {
      "cell_type": "code",
      "metadata": {
        "colab": {
          "base_uri": "https://localhost:8080/"
        },
        "id": "SzNxYeB0ZhWH",
        "outputId": "ded59970-b681-46c2-bc98-037979213f0a"
      },
      "source": [
        "# Test adjusted closing prices and average sentiment for normality and skew\n",
        "from scipy import stats\n",
        "stat_price, p_price = stats.normaltest(df_merged['adj_close'])\n",
        "stat_sentiment, p_sentiment = stats.normaltest(df_merged['avg_sentiment'])\n",
        "alpha = 0.05\n",
        "print(\"Stock normality statistic=%.3f, p=%.3f\" % (stat_price, p_price))\n",
        "print(\"Sentiment normality statistic=%.3f, p=%.3f\" % (stat_sentiment, p_sentiment))\n",
        "print()\n",
        "\n",
        "print(\"Stock price data looks Gaussian\" if p_price > alpha else \"Stock price data looks non-Gaussian\")\n",
        "print(\"Stock sentiment data looks Gaussian\" if p_sentiment > alpha else \"Stock sentiment data looks non-Gaussian\")\n",
        "print()\n",
        "\n",
        "print(f\"Stock price data skewness: {stats.skew(df_merged['adj_close'])}\")\n",
        "print(f\"Stock sentiment data skewness: {stats.skew(df_merged['avg_sentiment'])}\")"
      ],
      "execution_count": null,
      "outputs": [
        {
          "output_type": "stream",
          "text": [
            "Stock normality statistic=121.918, p=0.000\n",
            "Sentiment normality statistic=19.070, p=0.000\n",
            "\n",
            "Stock price data looks non-Gaussian\n",
            "Stock sentiment data looks non-Gaussian\n",
            "\n",
            "Stock price data skewness: -0.33355357511892075\n",
            "Stock sentiment data skewness: 0.3159856974541475\n"
          ],
          "name": "stdout"
        }
      ]
    },
    {
      "cell_type": "code",
      "metadata": {
        "colab": {
          "base_uri": "https://localhost:8080/",
          "height": 379
        },
        "id": "eOU45II-mBjO",
        "outputId": "648fdf99-7d7d-432f-89b1-053689f24c9f"
      },
      "source": [
        "# Plot correlation between adjusted close price and average sentiment\n",
        "corr = df_merged.corr(method='pearson')\n",
        "sns.heatmap(corr, xticklabels=corr.columns.values, yticklabels=corr.columns.values, annot=True, annot_kws={'size': 12})\n",
        "heat_map = plt.gcf()\n",
        "heat_map.set_size_inches(10,6)\n",
        "plt.show()"
      ],
      "execution_count": null,
      "outputs": [
        {
          "output_type": "display_data",
          "data": {
            "image/png": "[encoded data removed]",
            "text/plain": [
              "<Figure size 720x432 with 2 Axes>"
            ]
          },
          "metadata": {
            "tags": [],
            "needs_background": "light"
          }
        }
      ]
    },
    {
      "cell_type": "code",
      "metadata": {
        "colab": {
          "base_uri": "https://localhost:8080/"
        },
        "id": "uv3BbPSPtvIj",
        "outputId": "9bfea925-cd21-4ba7-d0ab-ed1bfcfda3f4"
      },
      "source": [
        "# Split merged dataset into train and test data\n",
        "n_obs=15\n",
        "X_train, X_test = df_merged[0:-n_obs], df_merged[-n_obs:]\n",
        "print(X_train.shape, X_test.shape)"
      ],
      "execution_count": null,
      "outputs": [
        {
          "output_type": "stream",
          "text": [
            "(629, 2) (15, 2)\n"
          ],
          "name": "stdout"
        }
      ]
    },
    {
      "cell_type": "code",
      "metadata": {
        "colab": {
          "base_uri": "https://localhost:8080/",
          "height": 547
        },
        "id": "EIUdbYFzqAzQ",
        "outputId": "990bcc7f-7866-41dc-cc2c-57de7e89d659"
      },
      "source": [
        "# Apply first differencing\n",
        "X_train_transformed = X_train.diff().dropna()\n",
        "print(X_train_transformed)\n",
        "X_train_transformed.describe()"
      ],
      "execution_count": null,
      "outputs": [
        {
          "output_type": "stream",
          "text": [
            "            adj_close  avg_sentiment\n",
            "date                                \n",
            "2017-03-23  -0.140228         0.5106\n",
            "2017-03-28   0.271698        -0.9510\n",
            "2017-03-29   0.131462         1.2720\n",
            "2017-03-30   0.078903         0.0000\n",
            "2017-03-31  -0.306778        -0.6209\n",
            "...               ...            ...\n",
            "2019-12-02   0.266205        -0.5894\n",
            "2019-12-03  -0.798599        -0.2139\n",
            "2019-12-04   0.275696         0.7045\n",
            "2019-12-05  -0.494362        -0.6386\n",
            "2019-12-06   0.836632         0.7104\n",
            "\n",
            "[628 rows x 2 columns]\n"
          ],
          "name": "stdout"
        },
        {
          "output_type": "execute_result",
          "data": {
            "text/html": [
              "<div>\n",
              "<style scoped>\n",
              "    .dataframe tbody tr th:only-of-type {\n",
              "        vertical-align: middle;\n",
              "    }\n",
              "\n",
              "    .dataframe tbody tr th {\n",
              "        vertical-align: top;\n",
              "    }\n",
              "\n",
              "    .dataframe thead th {\n",
              "        text-align: right;\n",
              "    }\n",
              "</style>\n",
              "<table border=\"1\" class=\"dataframe\">\n",
              "  <thead>\n",
              "    <tr style=\"text-align: right;\">\n",
              "      <th></th>\n",
              "      <th>adj_close</th>\n",
              "      <th>avg_sentiment</th>\n",
              "    </tr>\n",
              "  </thead>\n",
              "  <tbody>\n",
              "    <tr>\n",
              "      <th>count</th>\n",
              "      <td>628.000000</td>\n",
              "      <td>628.000000</td>\n",
              "    </tr>\n",
              "    <tr>\n",
              "      <th>mean</th>\n",
              "      <td>0.004584</td>\n",
              "      <td>0.000896</td>\n",
              "    </tr>\n",
              "    <tr>\n",
              "      <th>std</th>\n",
              "      <td>1.079783</td>\n",
              "      <td>0.295013</td>\n",
              "    </tr>\n",
              "    <tr>\n",
              "      <th>min</th>\n",
              "      <td>-5.242920</td>\n",
              "      <td>-0.951000</td>\n",
              "    </tr>\n",
              "    <tr>\n",
              "      <th>25%</th>\n",
              "      <td>-0.539167</td>\n",
              "      <td>-0.170050</td>\n",
              "    </tr>\n",
              "    <tr>\n",
              "      <th>50%</th>\n",
              "      <td>0.054392</td>\n",
              "      <td>0.000000</td>\n",
              "    </tr>\n",
              "    <tr>\n",
              "      <th>75%</th>\n",
              "      <td>0.604785</td>\n",
              "      <td>0.154975</td>\n",
              "    </tr>\n",
              "    <tr>\n",
              "      <th>max</th>\n",
              "      <td>3.870285</td>\n",
              "      <td>1.272000</td>\n",
              "    </tr>\n",
              "  </tbody>\n",
              "</table>\n",
              "</div>"
            ],
            "text/plain": [
              "        adj_close  avg_sentiment\n",
              "count  628.000000     628.000000\n",
              "mean     0.004584       0.000896\n",
              "std      1.079783       0.295013\n",
              "min     -5.242920      -0.951000\n",
              "25%     -0.539167      -0.170050\n",
              "50%      0.054392       0.000000\n",
              "75%      0.604785       0.154975\n",
              "max      3.870285       1.272000"
            ]
          },
          "metadata": {
            "tags": []
          },
          "execution_count": 128
        }
      ]
    },
    {
      "cell_type": "code",
      "metadata": {
        "colab": {
          "base_uri": "https://localhost:8080/"
        },
        "id": "i69F0Vg9qpqM",
        "outputId": "896d9198-90ef-45ea-f478-28b417f4c464"
      },
      "source": [
        "# Check for stationarity (low p-value suggests no unit root -> stationary time series)\n",
        "# Code from https://towardsdatascience.com/granger-causality-and-vector-auto-regressive-model-for-time-series-forecasting-3226a64889a6\n",
        "from statsmodels.tsa.stattools import adfuller\n",
        "\n",
        "def augmented_dickey_fuller_statistics(time_series, name):\n",
        "  result = adfuller(time_series.values)\n",
        "  print(f\"Augmented Dickey-Fuller Test: {name} Time Series\")\n",
        "  print('ADF Statistic: %f' % result[0])\n",
        "  print('p-value: %f' % result[1])\n",
        "  print('Critical Values:')\n",
        "  for key, value in result[4].items():\n",
        "    print('\\t%s: %.3f' % (key, value))\n",
        "  \n",
        "augmented_dickey_fuller_statistics(X_train_transformed['adj_close'], 'Adjusted Close')\n",
        "augmented_dickey_fuller_statistics(X_train_transformed['avg_sentiment'], 'Average Sentiment')"
      ],
      "execution_count": null,
      "outputs": [
        {
          "output_type": "stream",
          "text": [
            "Augmented Dickey-Fuller Test: Adjusted Close Time Series\n",
            "ADF Statistic: -22.435993\n",
            "p-value: 0.000000\n",
            "Critical Values:\n",
            "\t1%: -3.441\n",
            "\t5%: -2.866\n",
            "\t10%: -2.569\n",
            "Augmented Dickey-Fuller Test: Average Sentiment Time Series\n",
            "ADF Statistic: -10.556430\n",
            "p-value: 0.000000\n",
            "Critical Values:\n",
            "\t1%: -3.441\n",
            "\t5%: -2.866\n",
            "\t10%: -2.569\n"
          ],
          "name": "stdout"
        }
      ]
    },
    {
      "cell_type": "code",
      "metadata": {
        "colab": {
          "base_uri": "https://localhost:8080/",
          "height": 407
        },
        "id": "GhypnD5M04Tq",
        "outputId": "9071a8a3-8a22-4784-eed1-ca68171ada35"
      },
      "source": [
        "# Plot variation over time to check for stationarity\n",
        "# Code from https://towardsdatascience.com/granger-causality-and-vector-auto-regressive-model-for-time-series-forecasting-3226a64889a6\n",
        "fig, axes = plt.subplots(nrows=2, ncols=1, dpi=100)\n",
        "for i, ax in enumerate(axes.flatten()):\n",
        "  d = X_train_transformed[X_train_transformed.columns[i]]\n",
        "  ax.plot(d, color='red', linewidth=1)\n",
        "\n",
        "  # Decorations\n",
        "  ax.set_title(X_train_transformed.columns[i])\n",
        "  ax.xaxis.set_ticks_position('none')\n",
        "  ax.yaxis.set_ticks_position('none')\n",
        "  ax.spines['top'].set_alpha(0)\n",
        "  ax.tick_params(labelsize=6)\n",
        "plt.tight_layout();"
      ],
      "execution_count": null,
      "outputs": [
        {
          "output_type": "display_data",
          "data": {
            "image/png": "[encoded data removed]",
            "text/plain": [
              "<Figure size 600x400 with 2 Axes>"
            ]
          },
          "metadata": {
            "tags": [],
            "needs_background": "light"
          }
        }
      ]
    },
    {
      "cell_type": "code",
      "metadata": {
        "colab": {
          "base_uri": "https://localhost:8080/",
          "height": 127
        },
        "id": "LVVjFW75wL52",
        "outputId": "ca941570-6e08-4e65-e819-92d0bc5ec568"
      },
      "source": [
        "# Perform Granger causality test (p-value < 0.05 suggests x Granger causes y)\n",
        "# Code from https://stackoverflow.com/questions/58005681/is-it-possible-to-run-a-vector-autoregression-analysis-on-a-large-gdp-data-with\n",
        "from statsmodels.tsa.stattools import grangercausalitytests\n",
        "\n",
        "maxlag=12\n",
        "test = 'ssr-chi2test'\n",
        "\n",
        "def grangers_causality_matrix(data, variables, test = 'ssr_chi2test', verbose=False):\n",
        "\n",
        "    dataset = pd.DataFrame(np.zeros((len(variables), len(variables))), columns=variables, index=variables)\n",
        "    for c in dataset.columns:\n",
        "        for r in dataset.index:\n",
        "            test_result = grangercausalitytests(data[[r,c]], maxlag=maxlag, verbose=False)\n",
        "            p_values = [round(test_result[i+1][0][test][1],4) for i in range(maxlag)]\n",
        "            if verbose: print(f'Y = {r}, X = {c}, P Values = {p_values}')\n",
        "\n",
        "            min_p_value = np.min(p_values)\n",
        "            dataset.loc[r,c] = min_p_value\n",
        "\n",
        "    dataset.columns = [var+'_x' for var in variables]\n",
        "    dataset.index = [var+'_y' for var in variables]\n",
        "    return dataset\n",
        "\n",
        "print(X_train_transformed.columns)\n",
        "grangers_causality_matrix(X_train, variables = X_train.columns) "
      ],
      "execution_count": null,
      "outputs": [
        {
          "output_type": "stream",
          "text": [
            "Index(['adj_close', 'avg_sentiment'], dtype='object')\n"
          ],
          "name": "stdout"
        },
        {
          "output_type": "execute_result",
          "data": {
            "text/html": [
              "<div>\n",
              "<style scoped>\n",
              "    .dataframe tbody tr th:only-of-type {\n",
              "        vertical-align: middle;\n",
              "    }\n",
              "\n",
              "    .dataframe tbody tr th {\n",
              "        vertical-align: top;\n",
              "    }\n",
              "\n",
              "    .dataframe thead th {\n",
              "        text-align: right;\n",
              "    }\n",
              "</style>\n",
              "<table border=\"1\" class=\"dataframe\">\n",
              "  <thead>\n",
              "    <tr style=\"text-align: right;\">\n",
              "      <th></th>\n",
              "      <th>adj_close_x</th>\n",
              "      <th>avg_sentiment_x</th>\n",
              "    </tr>\n",
              "  </thead>\n",
              "  <tbody>\n",
              "    <tr>\n",
              "      <th>adj_close_y</th>\n",
              "      <td>1.0000</td>\n",
              "      <td>0.0313</td>\n",
              "    </tr>\n",
              "    <tr>\n",
              "      <th>avg_sentiment_y</th>\n",
              "      <td>0.0047</td>\n",
              "      <td>1.0000</td>\n",
              "    </tr>\n",
              "  </tbody>\n",
              "</table>\n",
              "</div>"
            ],
            "text/plain": [
              "                 adj_close_x  avg_sentiment_x\n",
              "adj_close_y           1.0000           0.0313\n",
              "avg_sentiment_y       0.0047           1.0000"
            ]
          },
          "metadata": {
            "tags": []
          },
          "execution_count": 131
        }
      ]
    },
    {
      "cell_type": "code",
      "metadata": {
        "colab": {
          "base_uri": "https://localhost:8080/"
        },
        "id": "opWJqzJJ19Ak",
        "outputId": "e81ae2da-8dc1-4ba9-a0fb-aff2669093b8"
      },
      "source": [
        "# Fit VAR model on train dataset\n",
        "# Code from https://towardsdatascience.com/granger-causality-and-vector-auto-regressive-model-for-time-series-forecasting-3226a64889a6\n",
        "from statsmodels.tsa.api import VAR\n",
        "\n",
        "mod = VAR(X_train_transformed)\n",
        "res = mod.fit(maxlags=15, ic='aic')\n",
        "print(res.summary())"
      ],
      "execution_count": null,
      "outputs": [
        {
          "output_type": "stream",
          "text": [
            "  Summary of Regression Results   \n",
            "==================================\n",
            "Model:                         VAR\n",
            "Method:                        OLS\n",
            "Date:           Fri, 06, Aug, 2021\n",
            "Time:                     21:54:25\n",
            "--------------------------------------------------------------------\n",
            "No. of Equations:         2.00000    BIC:                   -2.44220\n",
            "Nobs:                     617.000    HQIC:                  -2.64383\n",
            "Log likelihood:          -849.779    FPE:                  0.0625352\n",
            "AIC:                     -2.77209    Det(Omega_mle):       0.0581213\n",
            "--------------------------------------------------------------------\n",
            "Results for equation adj_close\n",
            "====================================================================================\n",
            "                       coefficient       std. error           t-stat            prob\n",
            "------------------------------------------------------------------------------------\n",
            "const                     0.004357         0.043126            0.101           0.920\n",
            "L1.adj_close              0.115722         0.041042            2.820           0.005\n",
            "L1.avg_sentiment         -0.108192         0.194852           -0.555           0.579\n",
            "L2.adj_close              0.019014         0.041156            0.462           0.644\n",
            "L2.avg_sentiment         -0.390453         0.249392           -1.566           0.117\n",
            "L3.adj_close              0.045492         0.040811            1.115           0.265\n",
            "L3.avg_sentiment         -0.640847         0.282277           -2.270           0.023\n",
            "L4.adj_close             -0.032146         0.040784           -0.788           0.431\n",
            "L4.avg_sentiment         -0.299333         0.298489           -1.003           0.316\n",
            "L5.adj_close             -0.067235         0.040711           -1.652           0.099\n",
            "L5.avg_sentiment         -0.179829         0.309320           -0.581           0.561\n",
            "L6.adj_close             -0.048808         0.040760           -1.197           0.231\n",
            "L6.avg_sentiment         -0.097028         0.312752           -0.310           0.756\n",
            "L7.adj_close              0.051492         0.040820            1.261           0.207\n",
            "L7.avg_sentiment          0.035071         0.307102            0.114           0.909\n",
            "L8.adj_close              0.015752         0.040931            0.385           0.700\n",
            "L8.avg_sentiment         -0.157992         0.295390           -0.535           0.593\n",
            "L9.adj_close             -0.079140         0.040927           -1.934           0.053\n",
            "L9.avg_sentiment          0.294318         0.278814            1.056           0.291\n",
            "L10.adj_close            -0.048467         0.041015           -1.182           0.237\n",
            "L10.avg_sentiment        -0.210733         0.246501           -0.855           0.393\n",
            "L11.adj_close             0.019558         0.040813            0.479           0.632\n",
            "L11.avg_sentiment         0.219356         0.195161            1.124           0.261\n",
            "====================================================================================\n",
            "\n",
            "Results for equation avg_sentiment\n",
            "====================================================================================\n",
            "                       coefficient       std. error           t-stat            prob\n",
            "------------------------------------------------------------------------------------\n",
            "const                    -0.000080         0.009079           -0.009           0.993\n",
            "L1.adj_close              0.002956         0.008641            0.342           0.732\n",
            "L1.avg_sentiment         -0.811129         0.041023          -19.773           0.000\n",
            "L2.adj_close             -0.002208         0.008665           -0.255           0.799\n",
            "L2.avg_sentiment         -0.713281         0.052505          -13.585           0.000\n",
            "L3.adj_close              0.000520         0.008592            0.061           0.952\n",
            "L3.avg_sentiment         -0.592828         0.059429           -9.975           0.000\n",
            "L4.adj_close              0.002161         0.008586            0.252           0.801\n",
            "L4.avg_sentiment         -0.540015         0.062842           -8.593           0.000\n",
            "L5.adj_close             -0.008657         0.008571           -1.010           0.312\n",
            "L5.avg_sentiment         -0.427065         0.065122           -6.558           0.000\n",
            "L6.adj_close             -0.014147         0.008581           -1.649           0.099\n",
            "L6.avg_sentiment         -0.348963         0.065845           -5.300           0.000\n",
            "L7.adj_close             -0.005858         0.008594           -0.682           0.495\n",
            "L7.avg_sentiment         -0.294853         0.064655           -4.560           0.000\n",
            "L8.adj_close              0.009836         0.008617            1.141           0.254\n",
            "L8.avg_sentiment         -0.307032         0.062189           -4.937           0.000\n",
            "L9.adj_close             -0.001559         0.008617           -0.181           0.856\n",
            "L9.avg_sentiment         -0.221095         0.058699           -3.767           0.000\n",
            "L10.adj_close             0.004710         0.008635            0.545           0.585\n",
            "L10.avg_sentiment        -0.122513         0.051896           -2.361           0.018\n",
            "L11.adj_close             0.008934         0.008592            1.040           0.298\n",
            "L11.avg_sentiment        -0.090195         0.041088           -2.195           0.028\n",
            "====================================================================================\n",
            "\n",
            "Correlation matrix of residuals\n",
            "                 adj_close  avg_sentiment\n",
            "adj_close         1.000000       0.056689\n",
            "avg_sentiment     0.056689       1.000000\n",
            "\n",
            "\n",
            "\n"
          ],
          "name": "stdout"
        },
        {
          "output_type": "stream",
          "text": [
            "/usr/local/lib/python3.7/dist-packages/statsmodels/tsa/base/tsa_model.py:219: ValueWarning: A date index has been provided, but it has no associated frequency information and so will be ignored when e.g. forecasting.\n",
            "  ' ignored when e.g. forecasting.', ValueWarning)\n"
          ],
          "name": "stderr"
        }
      ]
    },
    {
      "cell_type": "code",
      "metadata": {
        "colab": {
          "base_uri": "https://localhost:8080/"
        },
        "id": "ZzJ5U2bE3Z0I",
        "outputId": "3849c6b8-4e0f-4a65-aab5-47369d843105"
      },
      "source": [
        "# Calculate Durbin-Watson Statistic (range of 0 to 4, 1.5 to 2.5 suggests minimal auto-correlation)\n",
        "from statsmodels.stats.stattools import durbin_watson\n",
        "out = durbin_watson(res.resid)\n",
        "\n",
        "for col, val in zip(X_train_transformed.columns, out):\n",
        "  print((col), ':', round(val, 2))"
      ],
      "execution_count": null,
      "outputs": [
        {
          "output_type": "stream",
          "text": [
            "adj_close : 2.0\n",
            "avg_sentiment : 2.0\n"
          ],
          "name": "stdout"
        }
      ]
    },
    {
      "cell_type": "code",
      "metadata": {
        "colab": {
          "base_uri": "https://localhost:8080/",
          "height": 743
        },
        "id": "YimC8xOT390w",
        "outputId": "ddbb234b-d197-4a98-fb6b-df0cb3d10109"
      },
      "source": [
        "# Forecast future values using past lags\n",
        "lag_order = res.k_ar\n",
        "print(lag_order)\n",
        "\n",
        "# Input data for forecasting\n",
        "input_data = X_train_transformed.values[-lag_order:]\n",
        "print(input_data)\n",
        "\n",
        "# forecasting\n",
        "pred = res.forecast(y=input_data, steps=n_obs)\n",
        "pred = pd.DataFrame(pred, index=X_test.index, columns=X_test.columns + '_pred')\n",
        "pred"
      ],
      "execution_count": null,
      "outputs": [
        {
          "output_type": "stream",
          "text": [
            "11\n",
            "[[-0.40881348  0.2028    ]\n",
            " [ 0.01903534  0.4092    ]\n",
            " [ 1.55918121 -0.6782    ]\n",
            " [-1.55918121  0.5478    ]\n",
            " [ 0.09506226 -0.2532    ]\n",
            " [ 0.21865845  0.5894    ]\n",
            " [ 0.26620483 -0.5894    ]\n",
            " [-0.79859924 -0.2139    ]\n",
            " [ 0.2756958   0.7045    ]\n",
            " [-0.49436188 -0.6386    ]\n",
            " [ 0.83663177  0.7104    ]]\n"
          ],
          "name": "stdout"
        },
        {
          "output_type": "execute_result",
          "data": {
            "text/html": [
              "<div>\n",
              "<style scoped>\n",
              "    .dataframe tbody tr th:only-of-type {\n",
              "        vertical-align: middle;\n",
              "    }\n",
              "\n",
              "    .dataframe tbody tr th {\n",
              "        vertical-align: top;\n",
              "    }\n",
              "\n",
              "    .dataframe thead th {\n",
              "        text-align: right;\n",
              "    }\n",
              "</style>\n",
              "<table border=\"1\" class=\"dataframe\">\n",
              "  <thead>\n",
              "    <tr style=\"text-align: right;\">\n",
              "      <th></th>\n",
              "      <th>adj_close_pred</th>\n",
              "      <th>avg_sentiment_pred</th>\n",
              "    </tr>\n",
              "    <tr>\n",
              "      <th>date</th>\n",
              "      <th></th>\n",
              "      <th></th>\n",
              "    </tr>\n",
              "  </thead>\n",
              "  <tbody>\n",
              "    <tr>\n",
              "      <th>2019-12-09</th>\n",
              "      <td>-0.553503</td>\n",
              "      <td>-0.414223</td>\n",
              "    </tr>\n",
              "    <tr>\n",
              "      <th>2019-12-10</th>\n",
              "      <td>0.542553</td>\n",
              "      <td>-0.037020</td>\n",
              "    </tr>\n",
              "    <tr>\n",
              "      <th>2019-12-11</th>\n",
              "      <td>-0.410116</td>\n",
              "      <td>0.083884</td>\n",
              "    </tr>\n",
              "    <tr>\n",
              "      <th>2019-12-12</th>\n",
              "      <td>0.382869</td>\n",
              "      <td>-0.064605</td>\n",
              "    </tr>\n",
              "    <tr>\n",
              "      <th>2019-12-13</th>\n",
              "      <td>-0.215524</td>\n",
              "      <td>0.089345</td>\n",
              "    </tr>\n",
              "    <tr>\n",
              "      <th>2019-12-16</th>\n",
              "      <td>0.015724</td>\n",
              "      <td>-0.086389</td>\n",
              "    </tr>\n",
              "    <tr>\n",
              "      <th>2019-12-17</th>\n",
              "      <td>0.367148</td>\n",
              "      <td>0.061229</td>\n",
              "    </tr>\n",
              "    <tr>\n",
              "      <th>2019-12-18</th>\n",
              "      <td>-0.511458</td>\n",
              "      <td>-0.046869</td>\n",
              "    </tr>\n",
              "    <tr>\n",
              "      <th>2019-12-19</th>\n",
              "      <td>0.512030</td>\n",
              "      <td>-0.018814</td>\n",
              "    </tr>\n",
              "    <tr>\n",
              "      <th>2019-12-20</th>\n",
              "      <td>-0.358849</td>\n",
              "      <td>0.099577</td>\n",
              "    </tr>\n",
              "    <tr>\n",
              "      <th>2019-12-23</th>\n",
              "      <td>0.192319</td>\n",
              "      <td>-0.079849</td>\n",
              "    </tr>\n",
              "    <tr>\n",
              "      <th>2019-12-24</th>\n",
              "      <td>-0.027475</td>\n",
              "      <td>0.051364</td>\n",
              "    </tr>\n",
              "    <tr>\n",
              "      <th>2019-12-26</th>\n",
              "      <td>-0.105912</td>\n",
              "      <td>-0.029871</td>\n",
              "    </tr>\n",
              "    <tr>\n",
              "      <th>2019-12-30</th>\n",
              "      <td>0.098611</td>\n",
              "      <td>-0.007114</td>\n",
              "    </tr>\n",
              "    <tr>\n",
              "      <th>2019-12-31</th>\n",
              "      <td>-0.080811</td>\n",
              "      <td>0.018485</td>\n",
              "    </tr>\n",
              "  </tbody>\n",
              "</table>\n",
              "</div>"
            ],
            "text/plain": [
              "            adj_close_pred  avg_sentiment_pred\n",
              "date                                          \n",
              "2019-12-09       -0.553503           -0.414223\n",
              "2019-12-10        0.542553           -0.037020\n",
              "2019-12-11       -0.410116            0.083884\n",
              "2019-12-12        0.382869           -0.064605\n",
              "2019-12-13       -0.215524            0.089345\n",
              "2019-12-16        0.015724           -0.086389\n",
              "2019-12-17        0.367148            0.061229\n",
              "2019-12-18       -0.511458           -0.046869\n",
              "2019-12-19        0.512030           -0.018814\n",
              "2019-12-20       -0.358849            0.099577\n",
              "2019-12-23        0.192319           -0.079849\n",
              "2019-12-24       -0.027475            0.051364\n",
              "2019-12-26       -0.105912           -0.029871\n",
              "2019-12-30        0.098611           -0.007114\n",
              "2019-12-31       -0.080811            0.018485"
            ]
          },
          "metadata": {
            "tags": []
          },
          "execution_count": 134
        }
      ]
    },
    {
      "cell_type": "code",
      "metadata": {
        "id": "Llh0UGfe4tFE"
      },
      "source": [
        "# De-difference forecasts from the training data scale\n",
        "def invert_transformation(X_train, pred):\n",
        "  forecast = pred.copy()\n",
        "  columns = X_train.columns\n",
        "  for col in columns:\n",
        "    forecast[str(col)+'_pred'] = X_train[col].iloc[-1] + forecast[str(col)+'_pred'].cumsum()\n",
        "  return forecast\n",
        "  \n",
        "output = invert_transformation(X_train, pred)"
      ],
      "execution_count": null,
      "outputs": []
    },
    {
      "cell_type": "code",
      "metadata": {
        "colab": {
          "base_uri": "https://localhost:8080/",
          "height": 511
        },
        "id": "-a4aCybl5BZf",
        "outputId": "440a2bab-0a4d-4497-82d7-f1521dab424c"
      },
      "source": [
        "# Merge predicted and true data set\n",
        "merged_forecasts = pd.concat([output['adj_close_pred'], X_test['adj_close']], axis=1)\n",
        "merged_forecasts['accuracy'] = round(merged_forecasts.apply(lambda row: row['adj_close_pred'] / row['adj_close'] * 100, axis = 1),2)\n",
        "merged_forecasts['accuracy'] = pd.Series([\"{0:.2f}%\".format(val) for val in merged_forecasts['accuracy']], index = merged_forecasts.index)\n",
        "merged_forecasts = merged_forecasts.round(decimals=2)\n",
        "merged_forecasts = merged_forecasts.reset_index()\n",
        "merged_forecasts = merged_forecasts.sort_values(by='date', ascending=False)\n",
        "merged_forecasts"
      ],
      "execution_count": null,
      "outputs": [
        {
          "output_type": "execute_result",
          "data": {
            "text/html": [
              "<div>\n",
              "<style scoped>\n",
              "    .dataframe tbody tr th:only-of-type {\n",
              "        vertical-align: middle;\n",
              "    }\n",
              "\n",
              "    .dataframe tbody tr th {\n",
              "        vertical-align: top;\n",
              "    }\n",
              "\n",
              "    .dataframe thead th {\n",
              "        text-align: right;\n",
              "    }\n",
              "</style>\n",
              "<table border=\"1\" class=\"dataframe\">\n",
              "  <thead>\n",
              "    <tr style=\"text-align: right;\">\n",
              "      <th></th>\n",
              "      <th>date</th>\n",
              "      <th>adj_close_pred</th>\n",
              "      <th>adj_close</th>\n",
              "      <th>accuracy</th>\n",
              "    </tr>\n",
              "  </thead>\n",
              "  <tbody>\n",
              "    <tr>\n",
              "      <th>14</th>\n",
              "      <td>2019-12-31</td>\n",
              "      <td>42.42</td>\n",
              "      <td>43.40</td>\n",
              "      <td>97.74%</td>\n",
              "    </tr>\n",
              "    <tr>\n",
              "      <th>13</th>\n",
              "      <td>2019-12-30</td>\n",
              "      <td>42.45</td>\n",
              "      <td>43.60</td>\n",
              "      <td>97.36%</td>\n",
              "    </tr>\n",
              "    <tr>\n",
              "      <th>12</th>\n",
              "      <td>2019-12-27</td>\n",
              "      <td>42.41</td>\n",
              "      <td>43.52</td>\n",
              "      <td>97.44%</td>\n",
              "    </tr>\n",
              "    <tr>\n",
              "      <th>11</th>\n",
              "      <td>2019-12-26</td>\n",
              "      <td>42.41</td>\n",
              "      <td>43.40</td>\n",
              "      <td>97.73%</td>\n",
              "    </tr>\n",
              "    <tr>\n",
              "      <th>10</th>\n",
              "      <td>2019-12-24</td>\n",
              "      <td>42.45</td>\n",
              "      <td>42.97</td>\n",
              "      <td>98.77%</td>\n",
              "    </tr>\n",
              "    <tr>\n",
              "      <th>9</th>\n",
              "      <td>2019-12-23</td>\n",
              "      <td>42.37</td>\n",
              "      <td>42.56</td>\n",
              "      <td>99.55%</td>\n",
              "    </tr>\n",
              "    <tr>\n",
              "      <th>8</th>\n",
              "      <td>2019-12-20</td>\n",
              "      <td>42.30</td>\n",
              "      <td>42.55</td>\n",
              "      <td>99.43%</td>\n",
              "    </tr>\n",
              "    <tr>\n",
              "      <th>7</th>\n",
              "      <td>2019-12-19</td>\n",
              "      <td>42.33</td>\n",
              "      <td>42.11</td>\n",
              "      <td>100.51%</td>\n",
              "    </tr>\n",
              "    <tr>\n",
              "      <th>6</th>\n",
              "      <td>2019-12-18</td>\n",
              "      <td>42.24</td>\n",
              "      <td>41.68</td>\n",
              "      <td>101.35%</td>\n",
              "    </tr>\n",
              "    <tr>\n",
              "      <th>5</th>\n",
              "      <td>2019-12-17</td>\n",
              "      <td>42.31</td>\n",
              "      <td>41.87</td>\n",
              "      <td>101.04%</td>\n",
              "    </tr>\n",
              "    <tr>\n",
              "      <th>4</th>\n",
              "      <td>2019-12-16</td>\n",
              "      <td>42.37</td>\n",
              "      <td>42.01</td>\n",
              "      <td>100.86%</td>\n",
              "    </tr>\n",
              "    <tr>\n",
              "      <th>3</th>\n",
              "      <td>2019-12-13</td>\n",
              "      <td>42.19</td>\n",
              "      <td>42.06</td>\n",
              "      <td>100.32%</td>\n",
              "    </tr>\n",
              "    <tr>\n",
              "      <th>2</th>\n",
              "      <td>2019-12-12</td>\n",
              "      <td>42.22</td>\n",
              "      <td>41.51</td>\n",
              "      <td>101.73%</td>\n",
              "    </tr>\n",
              "    <tr>\n",
              "      <th>1</th>\n",
              "      <td>2019-12-11</td>\n",
              "      <td>42.44</td>\n",
              "      <td>40.60</td>\n",
              "      <td>104.53%</td>\n",
              "    </tr>\n",
              "    <tr>\n",
              "      <th>0</th>\n",
              "      <td>2019-12-10</td>\n",
              "      <td>42.36</td>\n",
              "      <td>41.27</td>\n",
              "      <td>102.63%</td>\n",
              "    </tr>\n",
              "  </tbody>\n",
              "</table>\n",
              "</div>"
            ],
            "text/plain": [
              "          date  adj_close_pred  adj_close accuracy\n",
              "14  2019-12-31           42.42      43.40   97.74%\n",
              "13  2019-12-30           42.45      43.60   97.36%\n",
              "12  2019-12-27           42.41      43.52   97.44%\n",
              "11  2019-12-26           42.41      43.40   97.73%\n",
              "10  2019-12-24           42.45      42.97   98.77%\n",
              "9   2019-12-23           42.37      42.56   99.55%\n",
              "8   2019-12-20           42.30      42.55   99.43%\n",
              "7   2019-12-19           42.33      42.11  100.51%\n",
              "6   2019-12-18           42.24      41.68  101.35%\n",
              "5   2019-12-17           42.31      41.87  101.04%\n",
              "4   2019-12-16           42.37      42.01  100.86%\n",
              "3   2019-12-13           42.19      42.06  100.32%\n",
              "2   2019-12-12           42.22      41.51  101.73%\n",
              "1   2019-12-11           42.44      40.60  104.53%\n",
              "0   2019-12-10           42.36      41.27  102.63%"
            ]
          },
          "metadata": {
            "tags": []
          },
          "execution_count": 120
        }
      ]
    },
    {
      "cell_type": "code",
      "metadata": {
        "colab": {
          "base_uri": "https://localhost:8080/"
        },
        "id": "kNPDDLyT_WCx",
        "outputId": "ec9ab13c-97c8-4d02-af12-5dc5df754416"
      },
      "source": [
        "# Compute bias and errors\n",
        "from sklearn.metrics import mean_absolute_error as mae, mean_squared_error as mse\n",
        "\n",
        "forecast_errors = [merged_forecasts['adj_close'][i]- merged_forecasts['adj_close_pred'][i] for i in range(len(merged_forecasts['adj_close']))]\n",
        "bias = sum(forecast_errors) * 1.0/len(merged_forecasts['adj_close'])\n",
        "\n",
        "print('Bias: %f' % bias)\n",
        "print('Mean absolute error:', mae(merged_forecasts['adj_close'].values, merged_forecasts['adj_close_pred'].values))\n",
        "print('Mean squared error:', mse(merged_forecasts['adj_close'].values, merged_forecasts['adj_close_pred'].values))\n",
        "print('Root mean squared error:', math.sqrt(mse(merged_forecasts['adj_close'].values, merged_forecasts['adj_close_pred'].values)))\n",
        "# Good predictions at num_tweets=1000000: T (MAE=0.301), CMCSA (MAE=0.67), CVS (MAE=0.901)\n",
        "# Good predictions at num_tweets=2000000: EBAY (MAE=0.775), CVS (MAE=0.703)"
      ],
      "execution_count": null,
      "outputs": [
        {
          "output_type": "stream",
          "text": [
            "Bias: -0.010667\n",
            "Mean absolute error: 0.7026666666666667\n",
            "Mean squared error: 0.7095999999999995\n",
            "Root mean squared error: 0.8423775875461071\n"
          ],
          "name": "stdout"
        }
      ]
    }
  ]
}